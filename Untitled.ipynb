{
 "cells": [
  {
   "cell_type": "code",
   "execution_count": 3,
   "metadata": {},
   "outputs": [],
   "source": [
    "import gensim\n",
    "import inflect\n",
    "import random\n",
    "import numpy as np"
   ]
  },
  {
   "cell_type": "code",
   "execution_count": 4,
   "metadata": {},
   "outputs": [],
   "source": [
    "model = gensim.models.KeyedVectors.load_word2vec_format(\n",
    "    'GoogleNews-vectors-negative300.bin.gz', binary=True, limit=200000\n",
    ")"
   ]
  },
  {
   "cell_type": "code",
   "execution_count": 5,
   "metadata": {},
   "outputs": [],
   "source": [
    "with open(\"./words.txt\") as f:\n",
    "    words = f.readlines()\n",
    "\n",
    "words = [w.strip() for w in words] "
   ]
  },
  {
   "cell_type": "code",
   "execution_count": 487,
   "metadata": {},
   "outputs": [],
   "source": [
    "\"\"\"Generates team word lists and a random game board based on the word lists.\n",
    "\n",
    ":param word_list: Codenames master word list, generated in block above\n",
    ":return: 5x5 numpy board, red team words, blue team words, neutral words, assassin\n",
    ":rtype: tuple\n",
    "\"\"\"\n",
    "def generate_board(word_list):\n",
    "    used = set()\n",
    "    red = []\n",
    "    blue = []\n",
    "    neutral = []\n",
    "    assassin = []\n",
    "\n",
    "    #Generate 9 random words for red team.\n",
    "    while len(red) < 9:\n",
    "        index = random.choice(range(len(word_list)))\n",
    "        word = word_list[index]\n",
    "        if index not in used:\n",
    "            red.append(word)\n",
    "            used.add(index)\n",
    "\n",
    "    #Generate 8 random words for blue team.\n",
    "    while len(blue) < 8:\n",
    "        index = random.choice(range(len(word_list)))\n",
    "        word = word_list[index]\n",
    "        if index not in used:\n",
    "            blue.append(word)\n",
    "            used.add(index)\n",
    "    \n",
    "    #Generate 7 random neutral words.\n",
    "    while len(neutral) < 7:\n",
    "        index = random.choice(range(len(word_list)))\n",
    "        word = word_list[index]\n",
    "        if index not in used:\n",
    "            neutral.append(word)\n",
    "            used.add(index)\n",
    "    \n",
    "    #Generate assassin word.\n",
    "    while not assassin:\n",
    "        index = random.choice(range(len(word_list)))\n",
    "        word = word_list[index]\n",
    "        if index not in used:\n",
    "            assassin.append(word)\n",
    "            used.add(index)\n",
    "    board = red + blue + neutral + assassin\n",
    "    random.shuffle(board)\n",
    "    board = np.reshape(board,(5,5))\n",
    "    return board, red, blue, neutral, assassin\n",
    "\n",
    "\"\"\"Guesses the most similar n words out of given words list based on given clue.\n",
    "\n",
    "Threshold similarity for guessed words must be greater than 0.1\n",
    "\n",
    ":param clue: given clue\n",
    ":param words: given list of words to guess from\n",
    ":param n: max number of words to guess\n",
    ":return: list of length at most n of best guesses\n",
    "\"\"\"\n",
    "def guess(clue, words, n):\n",
    "    poss = {}\n",
    "    for w in words:\n",
    "        poss[w] = model.similarity(clue, w)\n",
    "    poss_lst = sorted(poss, key=poss.__getitem__, reverse=True)\n",
    "    top_n = poss_lst[:n]\n",
    "    return [w for w in top_n if poss[w] > 0.2]\n",
    "\n",
    "\"\"\"Verifies that a clue is valid.\n",
    "\n",
    "A clue (word2) is invalid if either word is a substring of the other, if there is an underscore\n",
    "in word2, or if word2 is the plural form of word1. Uses inflect.engine() to check plurality.\n",
    "\n",
    ":param word1: a word from the codenames list of words\n",
    ":param word2: a model generated clue to be verified\n",
    ":return: False if word2 is invalid, True if word2 is valid\n",
    "\"\"\"\n",
    "def clean_clue(word1, word2):\n",
    "    engine = inflect.engine()\n",
    "    word1 = word1.lower()\n",
    "    word2 = word2.lower()\n",
    "    return not (word1 in word2 or word2 in word1 or \"_\" in word2 or word2 == engine.plural(word1))\n",
    "\n",
    "\"\"\"Gives an optimal clue based on current board state.\n",
    "\n",
    "This function iteratively finds the most correlated two words and generates potential clues related to both.\n",
    "Then, it checks if any of the bad words are of greater similarity to the max potential clue than either\n",
    "most correlated words.\n",
    "\n",
    ":param words: list of words to generate a clue for\n",
    ":param bad_words: list of words to avoid giving clues for\n",
    ":return: tuple of optimal clue, the words intended to be guessed\n",
    "\"\"\"\n",
    "def give_clue(words, bad_words):\n",
    "            \n",
    "    # Correlate all possible pairs of words and store them in a dict of (word1,word2): similarity\n",
    "    if len(words) >= 2:\n",
    "        similarities = {}\n",
    "        for i in range(len(words)):\n",
    "            for j in range(i + 1, len(words)):\n",
    "                similarities[(words[i], words[j])] = model.similarity(words[i], words[j])\n",
    "        triple_similarities = {}\n",
    "    \n",
    "    if len(words) >= 3:\n",
    "        seen = set()\n",
    "        for w in words:\n",
    "            for key in similarities.keys():\n",
    "                z = key + (w,)\n",
    "                if w not in key and tuple(sorted(z)) not in seen:\n",
    "                    triple_similarities[z] = model.n_similarity([w], list(key))\n",
    "                    seen.add(tuple(sorted(z)))\n",
    "    \n",
    "    # Loop until we find the optimal pair of words to go for. Shouldn't ever be an infinite loop?\n",
    "    while True:\n",
    "        # Find highest similarity pair of words\n",
    "        if len(words) == 1:\n",
    "            max_correlated_n = (words[0],)\n",
    "        elif len(words) >= 2:\n",
    "            max_correlated_pair = max(similarities, key=similarities.get)\n",
    "            max_correlated_n = max_correlated_pair\n",
    "        if len(words) >= 3:\n",
    "            max_correlated_triple = max(triple_similarities, key=triple_similarities.get)\n",
    "        \n",
    "            if triple_similarities[max_correlated_triple] * 0.9 >= similarities[max_correlated_pair]:\n",
    "                max_correlated_n = max_correlated_triple\n",
    "            else:\n",
    "                max_correlated_n = max_correlated_pair\n",
    "        \n",
    "        c_words = list(max_correlated_n)\n",
    "        \n",
    "        # Find most similar words to both words in max_correlated_n\n",
    "        clues = model.most_similar(positive=c_words,topn=10, restrict_vocab=10000)\n",
    "        \n",
    "        # Clean the found similar words\n",
    "        clues_dict = dict(clues)\n",
    "        cleaned_clues = [c[0] for c in clues if all([clean_clue(w,c[0]) for w in c_words])]\n",
    "        \n",
    "        # Iterate until cleaned_clues is empty or we find an optimal clue\n",
    "        while cleaned_clues:\n",
    "            # Find best current clue\n",
    "            possible_clue = max(cleaned_clues, key=lambda x: clues_dict[x])\n",
    "\n",
    "            # Find most similar word to best current clue from bad_words\n",
    "            enemy_match = model.most_similar_to_given(possible_clue, bad_words)\n",
    "            \n",
    "            # Calculate similarity between the two\n",
    "            enemy_sim = model.similarity(enemy_match, possible_clue)\n",
    "            \n",
    "            # If enemy's word is greater in similarity than either of the words in max_correlated_pair,\n",
    "            # remove the best current clue from cleaned_clues and continue iterating.\n",
    "            # If not, return the current clue, as it is optimal.\n",
    "            optimal = True\n",
    "            for n in max_correlated_n:\n",
    "                if enemy_sim >= model.similarity(n, possible_clue):\n",
    "                    #print(\"Foreign word \" + enemy_match + \" was too close. Removing \" + possible_clue)\n",
    "                    cleaned_clues.remove(possible_clue)\n",
    "                    optimal = False\n",
    "                    break\n",
    "            \n",
    "            if optimal:\n",
    "                return possible_clue, tuple(max_correlated_n)\n",
    "            \n",
    "        # All the enemy's clues were atleast more similar than one of the words in max_correlated_pair,\n",
    "        # so pop max_correlated_pair from similarities dict and continue iterating.\n",
    "        #print(\"Too many enemy correlations. Removing \", max_correlated_n)\n",
    "        if len(max_correlated_n) == 2:\n",
    "            similarities.pop(max_correlated_n) \n",
    "        elif len(max_correlated_n) == 3:\n",
    "            triple_similarities.pop(max_correlated_n)"
   ]
  },
  {
   "cell_type": "code",
   "execution_count": 457,
   "metadata": {},
   "outputs": [
    {
     "name": "stdout",
     "output_type": "stream",
     "text": [
      "Gave clue birdie for 2\n",
      "Guessed ('eagle', 'flute')\n"
     ]
    }
   ],
   "source": [
    "board, red, blue, neutral, assassin = generate_board(words)\n",
    "clue, intended = give_clue(red, blue, neutral, assassin)\n",
    "print(\"Gave clue\", clue, \"for\", len(intended))\n",
    "attempt = tuple(guess(clue, red+blue+neutral+assassin, 2))\n",
    "print(\"Guessed\", attempt)"
   ]
  },
  {
   "cell_type": "code",
   "execution_count": null,
   "metadata": {},
   "outputs": [],
   "source": [
    "#Statistics\n",
    "correct = 0\n",
    "for i in range(1000):\n",
    "    board, red, blue, neutral, assassin = generate_board(words)\n",
    "    clue, intended = give_clue(red, assassin + blue + neutral)\n",
    "    attempt = tuple(guess(clue, red+blue+neutral+assassin, 2))\n",
    "    if intended == attempt or (intended[1], intended[0]) == attempt or intended[1] == attempt[0] or intended[1] == attempt[1] or intended[0] == attempt[0] or intended[0] == attempt[1]:\n",
    "        correct += 1\n",
    "print(\"Guessed: \",correct/100, \" correct\")"
   ]
  },
  {
   "cell_type": "code",
   "execution_count": 488,
   "metadata": {},
   "outputs": [
    {
     "name": "stdout",
     "output_type": "stream",
     "text": [
      "Guessed  747  doubles. Success rate:  0.8755020080321285\n",
      "Guessed  253  triples. Success rate:  0.6363636363636364\n"
     ]
    }
   ],
   "source": [
    "#Doubles/Triples Statistics\n",
    "triples_success = 0\n",
    "triples_failure = 0\n",
    "doubles_success = 0\n",
    "doubles_failure = 0\n",
    "for i in range(1000):\n",
    "    board, red, blue, neutral, assassin = generate_board(words)\n",
    "    clue, intended = give_clue(red, blue + neutral + assassin)\n",
    "    attempt = tuple(guess(clue, red+blue+neutral+assassin, len(intended)))\n",
    "    if len(intended) == 3:\n",
    "        if set(attempt) == set(intended):\n",
    "            triples_success +=1\n",
    "        else:\n",
    "            triples_failure += 1\n",
    "    elif len(intended) == 2:\n",
    "        if set(attempt) == set(intended):\n",
    "            doubles_success += 1\n",
    "        else:\n",
    "            doubles_failure += 1\n",
    "            \n",
    "print(\"Guessed \", doubles_success + doubles_failure, \" doubles. Success rate: \", doubles_success / (doubles_success + doubles_failure))\n",
    "print(\"Guessed \", triples_success + triples_failure, \" triples. Success rate: \", triples_success / (triples_success + triples_failure))"
   ]
  },
  {
   "cell_type": "code",
   "execution_count": null,
   "metadata": {},
   "outputs": [],
   "source": []
  },
  {
   "cell_type": "code",
   "execution_count": 474,
   "metadata": {},
   "outputs": [
    {
     "data": {
      "text/plain": [
       "0.15682536"
      ]
     },
     "execution_count": 474,
     "metadata": {},
     "output_type": "execute_result"
    }
   ],
   "source": [
    "model.most_similar(positive=[\"leg\", \"butter\"], topn=10)"
   ]
  },
  {
   "cell_type": "code",
   "execution_count": null,
   "metadata": {},
   "outputs": [],
   "source": []
  }
 ],
 "metadata": {
  "kernelspec": {
   "display_name": "Python 3",
   "language": "python",
   "name": "python3"
  },
  "language_info": {
   "codemirror_mode": {
    "name": "ipython",
    "version": 3
   },
   "file_extension": ".py",
   "mimetype": "text/x-python",
   "name": "python",
   "nbconvert_exporter": "python",
   "pygments_lexer": "ipython3",
   "version": "3.6.5"
  }
 },
 "nbformat": 4,
 "nbformat_minor": 2
}
