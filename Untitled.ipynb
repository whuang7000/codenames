{
 "cells": [
  {
   "cell_type": "code",
   "execution_count": 363,
   "metadata": {},
   "outputs": [],
   "source": [
    "import gensim\n",
    "import inflect\n",
    "import random\n",
    "import numpy as np"
   ]
  },
  {
   "cell_type": "code",
   "execution_count": null,
   "metadata": {},
   "outputs": [],
   "source": [
    "model = gensim.models.KeyedVectors.load_word2vec_format(\n",
    "    'GoogleNews-vectors-negative300.bin.gz', binary=True, limit=200000\n",
    ")"
   ]
  },
  {
   "cell_type": "code",
   "execution_count": 226,
   "metadata": {},
   "outputs": [],
   "source": [
    "with open(\"./words.txt\") as f:\n",
    "    words = f.readlines()\n",
    "\n",
    "words = [w.strip() for w in words] "
   ]
  },
  {
   "cell_type": "code",
   "execution_count": 366,
   "metadata": {},
   "outputs": [],
   "source": [
    "def generate_board(word_list):\n",
    "    used = set()\n",
    "    red = []\n",
    "    blue = []\n",
    "    neutral = []\n",
    "    assassin = []\n",
    "\n",
    "    while len(red) < 9:\n",
    "        index = random.choice(range(len(word_list)))\n",
    "        word = word_list[index]\n",
    "        if index not in used:\n",
    "            red.append(word)\n",
    "            used.add(index)\n",
    "\n",
    "    while len(blue) < 8:\n",
    "        index = random.choice(range(len(word_list)))\n",
    "        word = word_list[index]\n",
    "        if index not in used:\n",
    "            blue.append(word)\n",
    "            used.add(index)\n",
    "            \n",
    "    while len(neutral) < 7:\n",
    "        index = random.choice(range(len(word_list)))\n",
    "        word = word_list[index]\n",
    "        if index not in used:\n",
    "            neutral.append(word)\n",
    "            used.add(index)\n",
    "    \n",
    "    while not assassin:\n",
    "        index = random.choice(range(len(word_list)))\n",
    "        word = word_list[index]\n",
    "        if index not in used:\n",
    "            assassin.append(word)\n",
    "            used.add(index)\n",
    "    board = red + blue + neutral + assassin\n",
    "    random.shuffle(board)\n",
    "    board = np.reshape(board,(5,5))\n",
    "    return board, red, blue, neutral, assassin\n",
    "\n",
    "def guess(clue, words, n):\n",
    "    poss = {}\n",
    "    for w in words:\n",
    "        poss[w] = model.similarity(clue, w)\n",
    "    poss_lst = sorted(poss, key=poss.__getitem__, reverse=True)\n",
    "    top_n = poss_lst[:n]\n",
    "    return [w for w in top_n if poss[w] > 0.1]\n",
    "\n",
    "def clean_clue(word1, word2):\n",
    "    engine = inflect.engine()\n",
    "    word1 = word1.lower()\n",
    "    word2 = word2.lower()\n",
    "    return not (word1 in word2 or word2 in word1 or \"_\" in word2 or word2 == engine.plural(word1))\n",
    "\n",
    "def give_clue(words,bad_words):\n",
    "    similarities = {}\n",
    "    for i in range(len(words)):\n",
    "        for j in range(i + 1, len(words)):\n",
    "            similarities[(words[i], words[j])] = model.similarity(words[i], words[j])\n",
    "    \n",
    "    max_correlated_words = max(similarities, key=similarities.get)\n",
    "    print(max_correlated_words)\n",
    "    c_words = list(max_correlated_words)\n",
    "    clues = model.most_similar(positive=c_words,negative=bad_words,topn=10)\n",
    "    print(clues)\n",
    "    clues_dict = dict(clues)\n",
    "    cleaned_clues = [c[0] for c in clues if all([clean_clue(w,c[0]) for w in c_words])]\n",
    "    return max(cleaned_clues, key=lambda x: clues_dict[x]) + \" for 2\""
   ]
  },
  {
   "cell_type": "code",
   "execution_count": 398,
   "metadata": {},
   "outputs": [],
   "source": [
    "board, red, blue, neutral, assassin = generate_board(words)    "
   ]
  },
  {
   "cell_type": "code",
   "execution_count": 399,
   "metadata": {},
   "outputs": [
    {
     "name": "stdout",
     "output_type": "stream",
     "text": [
      "['back', 'worm', 'tower', 'robin', 'switch', 'fly', 'capital', 'dice', 'night']\n",
      "['note', 'queen', 'washer', 'cell', 'millionaire', 'racket', 'yard', 'england']\n",
      "['time', 'bond', 'eye', 'shot', 'ivory', 'olive', 'march']\n",
      "['king']\n"
     ]
    }
   ],
   "source": [
    "print(red)\n",
    "print(blue)\n",
    "print(neutral)\n",
    "print(assassin)"
   ]
  },
  {
   "cell_type": "code",
   "execution_count": 400,
   "metadata": {},
   "outputs": [
    {
     "name": "stdout",
     "output_type": "stream",
     "text": [
      "('worm', 'robin')\n",
      "[('SPOT', 0.15648123621940613), ('OWL', 0.15048080682754517), ('Framework', 0.1483299881219864), ('Avian_Influenza', 0.14176473021507263), ('EAB', 0.14126001298427582), ('Biological_Diversity', 0.13827215135097504), ('USACE', 0.137831449508667), ('XCP', 0.1364476978778839), ('raptors', 0.13546928763389587), ('UFO_sightings', 0.13386830687522888)]\n"
     ]
    },
    {
     "data": {
      "text/plain": [
       "'SPOT for 2'"
      ]
     },
     "execution_count": 400,
     "metadata": {},
     "output_type": "execute_result"
    }
   ],
   "source": [
    "give_clue(red, blue+assassin)"
   ]
  },
  {
   "cell_type": "code",
   "execution_count": 378,
   "metadata": {},
   "outputs": [
    {
     "data": {
      "text/plain": [
       "0.44282317"
      ]
     },
     "execution_count": 378,
     "metadata": {},
     "output_type": "execute_result"
    }
   ],
   "source": [
    "model.similarity(\"dash\", \"sprint\")"
   ]
  },
  {
   "cell_type": "code",
   "execution_count": null,
   "metadata": {},
   "outputs": [],
   "source": []
  }
 ],
 "metadata": {
  "kernelspec": {
   "display_name": "Python 3",
   "language": "python",
   "name": "python3"
  },
  "language_info": {
   "codemirror_mode": {
    "name": "ipython",
    "version": 3
   },
   "file_extension": ".py",
   "mimetype": "text/x-python",
   "name": "python",
   "nbconvert_exporter": "python",
   "pygments_lexer": "ipython3",
   "version": "3.6.5"
  }
 },
 "nbformat": 4,
 "nbformat_minor": 2
}
